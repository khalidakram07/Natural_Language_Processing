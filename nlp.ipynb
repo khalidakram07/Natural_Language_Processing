{
  "nbformat": 4,
  "nbformat_minor": 0,
  "metadata": {
    "colab": {
      "name": "nlp.ipynb",
      "provenance": [],
      "include_colab_link": true
    },
    "kernelspec": {
      "name": "python3",
      "display_name": "Python 3"
    },
    "accelerator": "GPU"
  },
  "cells": [
    {
      "cell_type": "markdown",
      "metadata": {
        "id": "view-in-github",
        "colab_type": "text"
      },
      "source": [
        "<a href=\"https://colab.research.google.com/github/khalidakram07/Natural_Language_Processing/blob/main/nlp.ipynb\" target=\"_parent\"><img src=\"https://colab.research.google.com/assets/colab-badge.svg\" alt=\"Open In Colab\"/></a>"
      ]
    },
    {
      "cell_type": "code",
      "metadata": {
        "colab": {
          "base_uri": "https://localhost:8080/"
        },
        "id": "Zi_pJjMaKe9R",
        "outputId": "387ad38e-82f4-4573-8682-bb7cd5c242e9"
      },
      "source": [
        "import nltk\r\n",
        "nltk.download('all')\r\n",
        "from textblob import TextBlob"
      ],
      "execution_count": 5,
      "outputs": [
        {
          "output_type": "stream",
          "text": [
            "[nltk_data] Downloading collection 'all'\n",
            "[nltk_data]    | \n",
            "[nltk_data]    | Downloading package abc to /root/nltk_data...\n",
            "[nltk_data]    |   Unzipping corpora/abc.zip.\n",
            "[nltk_data]    | Downloading package alpino to /root/nltk_data...\n",
            "[nltk_data]    |   Unzipping corpora/alpino.zip.\n",
            "[nltk_data]    | Downloading package biocreative_ppi to\n",
            "[nltk_data]    |     /root/nltk_data...\n",
            "[nltk_data]    |   Unzipping corpora/biocreative_ppi.zip.\n",
            "[nltk_data]    | Downloading package brown to /root/nltk_data...\n",
            "[nltk_data]    |   Unzipping corpora/brown.zip.\n",
            "[nltk_data]    | Downloading package brown_tei to /root/nltk_data...\n",
            "[nltk_data]    |   Unzipping corpora/brown_tei.zip.\n",
            "[nltk_data]    | Downloading package cess_cat to /root/nltk_data...\n",
            "[nltk_data]    |   Unzipping corpora/cess_cat.zip.\n",
            "[nltk_data]    | Downloading package cess_esp to /root/nltk_data...\n",
            "[nltk_data]    |   Unzipping corpora/cess_esp.zip.\n",
            "[nltk_data]    | Downloading package chat80 to /root/nltk_data...\n",
            "[nltk_data]    |   Unzipping corpora/chat80.zip.\n",
            "[nltk_data]    | Downloading package city_database to\n",
            "[nltk_data]    |     /root/nltk_data...\n",
            "[nltk_data]    |   Unzipping corpora/city_database.zip.\n",
            "[nltk_data]    | Downloading package cmudict to /root/nltk_data...\n",
            "[nltk_data]    |   Unzipping corpora/cmudict.zip.\n",
            "[nltk_data]    | Downloading package comparative_sentences to\n",
            "[nltk_data]    |     /root/nltk_data...\n",
            "[nltk_data]    |   Unzipping corpora/comparative_sentences.zip.\n",
            "[nltk_data]    | Downloading package comtrans to /root/nltk_data...\n",
            "[nltk_data]    | Downloading package conll2000 to /root/nltk_data...\n",
            "[nltk_data]    |   Unzipping corpora/conll2000.zip.\n",
            "[nltk_data]    | Downloading package conll2002 to /root/nltk_data...\n",
            "[nltk_data]    |   Unzipping corpora/conll2002.zip.\n",
            "[nltk_data]    | Downloading package conll2007 to /root/nltk_data...\n",
            "[nltk_data]    | Downloading package crubadan to /root/nltk_data...\n",
            "[nltk_data]    |   Unzipping corpora/crubadan.zip.\n",
            "[nltk_data]    | Downloading package dependency_treebank to\n",
            "[nltk_data]    |     /root/nltk_data...\n",
            "[nltk_data]    |   Unzipping corpora/dependency_treebank.zip.\n",
            "[nltk_data]    | Downloading package dolch to /root/nltk_data...\n",
            "[nltk_data]    |   Unzipping corpora/dolch.zip.\n",
            "[nltk_data]    | Downloading package europarl_raw to\n",
            "[nltk_data]    |     /root/nltk_data...\n",
            "[nltk_data]    |   Unzipping corpora/europarl_raw.zip.\n",
            "[nltk_data]    | Downloading package floresta to /root/nltk_data...\n",
            "[nltk_data]    |   Unzipping corpora/floresta.zip.\n",
            "[nltk_data]    | Downloading package framenet_v15 to\n",
            "[nltk_data]    |     /root/nltk_data...\n",
            "[nltk_data]    |   Unzipping corpora/framenet_v15.zip.\n",
            "[nltk_data]    | Downloading package framenet_v17 to\n",
            "[nltk_data]    |     /root/nltk_data...\n",
            "[nltk_data]    |   Unzipping corpora/framenet_v17.zip.\n",
            "[nltk_data]    | Downloading package gazetteers to /root/nltk_data...\n",
            "[nltk_data]    |   Unzipping corpora/gazetteers.zip.\n",
            "[nltk_data]    | Downloading package genesis to /root/nltk_data...\n",
            "[nltk_data]    |   Unzipping corpora/genesis.zip.\n",
            "[nltk_data]    | Downloading package gutenberg to /root/nltk_data...\n",
            "[nltk_data]    |   Unzipping corpora/gutenberg.zip.\n",
            "[nltk_data]    | Downloading package ieer to /root/nltk_data...\n",
            "[nltk_data]    |   Unzipping corpora/ieer.zip.\n",
            "[nltk_data]    | Downloading package inaugural to /root/nltk_data...\n",
            "[nltk_data]    |   Unzipping corpora/inaugural.zip.\n",
            "[nltk_data]    | Downloading package indian to /root/nltk_data...\n",
            "[nltk_data]    |   Unzipping corpora/indian.zip.\n",
            "[nltk_data]    | Downloading package jeita to /root/nltk_data...\n",
            "[nltk_data]    | Downloading package kimmo to /root/nltk_data...\n",
            "[nltk_data]    |   Unzipping corpora/kimmo.zip.\n",
            "[nltk_data]    | Downloading package knbc to /root/nltk_data...\n",
            "[nltk_data]    | Downloading package lin_thesaurus to\n",
            "[nltk_data]    |     /root/nltk_data...\n",
            "[nltk_data]    |   Unzipping corpora/lin_thesaurus.zip.\n",
            "[nltk_data]    | Downloading package mac_morpho to /root/nltk_data...\n",
            "[nltk_data]    |   Unzipping corpora/mac_morpho.zip.\n",
            "[nltk_data]    | Downloading package machado to /root/nltk_data...\n",
            "[nltk_data]    | Downloading package masc_tagged to /root/nltk_data...\n",
            "[nltk_data]    | Downloading package moses_sample to\n",
            "[nltk_data]    |     /root/nltk_data...\n",
            "[nltk_data]    |   Unzipping models/moses_sample.zip.\n",
            "[nltk_data]    | Downloading package movie_reviews to\n",
            "[nltk_data]    |     /root/nltk_data...\n",
            "[nltk_data]    |   Unzipping corpora/movie_reviews.zip.\n",
            "[nltk_data]    | Downloading package names to /root/nltk_data...\n",
            "[nltk_data]    |   Unzipping corpora/names.zip.\n",
            "[nltk_data]    | Downloading package nombank.1.0 to /root/nltk_data...\n",
            "[nltk_data]    | Downloading package nps_chat to /root/nltk_data...\n",
            "[nltk_data]    |   Unzipping corpora/nps_chat.zip.\n",
            "[nltk_data]    | Downloading package omw to /root/nltk_data...\n",
            "[nltk_data]    |   Unzipping corpora/omw.zip.\n",
            "[nltk_data]    | Downloading package opinion_lexicon to\n",
            "[nltk_data]    |     /root/nltk_data...\n",
            "[nltk_data]    |   Unzipping corpora/opinion_lexicon.zip.\n",
            "[nltk_data]    | Downloading package paradigms to /root/nltk_data...\n",
            "[nltk_data]    |   Unzipping corpora/paradigms.zip.\n",
            "[nltk_data]    | Downloading package pil to /root/nltk_data...\n",
            "[nltk_data]    |   Unzipping corpora/pil.zip.\n",
            "[nltk_data]    | Downloading package pl196x to /root/nltk_data...\n",
            "[nltk_data]    |   Unzipping corpora/pl196x.zip.\n",
            "[nltk_data]    | Downloading package ppattach to /root/nltk_data...\n",
            "[nltk_data]    |   Unzipping corpora/ppattach.zip.\n",
            "[nltk_data]    | Downloading package problem_reports to\n",
            "[nltk_data]    |     /root/nltk_data...\n",
            "[nltk_data]    |   Unzipping corpora/problem_reports.zip.\n",
            "[nltk_data]    | Downloading package propbank to /root/nltk_data...\n",
            "[nltk_data]    | Downloading package ptb to /root/nltk_data...\n",
            "[nltk_data]    |   Unzipping corpora/ptb.zip.\n",
            "[nltk_data]    | Downloading package product_reviews_1 to\n",
            "[nltk_data]    |     /root/nltk_data...\n",
            "[nltk_data]    |   Unzipping corpora/product_reviews_1.zip.\n",
            "[nltk_data]    | Downloading package product_reviews_2 to\n",
            "[nltk_data]    |     /root/nltk_data...\n",
            "[nltk_data]    |   Unzipping corpora/product_reviews_2.zip.\n",
            "[nltk_data]    | Downloading package pros_cons to /root/nltk_data...\n",
            "[nltk_data]    |   Unzipping corpora/pros_cons.zip.\n",
            "[nltk_data]    | Downloading package qc to /root/nltk_data...\n",
            "[nltk_data]    |   Unzipping corpora/qc.zip.\n",
            "[nltk_data]    | Downloading package reuters to /root/nltk_data...\n",
            "[nltk_data]    | Downloading package rte to /root/nltk_data...\n",
            "[nltk_data]    |   Unzipping corpora/rte.zip.\n",
            "[nltk_data]    | Downloading package semcor to /root/nltk_data...\n",
            "[nltk_data]    | Downloading package senseval to /root/nltk_data...\n",
            "[nltk_data]    |   Unzipping corpora/senseval.zip.\n",
            "[nltk_data]    | Downloading package sentiwordnet to\n",
            "[nltk_data]    |     /root/nltk_data...\n",
            "[nltk_data]    |   Unzipping corpora/sentiwordnet.zip.\n",
            "[nltk_data]    | Downloading package sentence_polarity to\n",
            "[nltk_data]    |     /root/nltk_data...\n",
            "[nltk_data]    |   Unzipping corpora/sentence_polarity.zip.\n",
            "[nltk_data]    | Downloading package shakespeare to /root/nltk_data...\n",
            "[nltk_data]    |   Unzipping corpora/shakespeare.zip.\n",
            "[nltk_data]    | Downloading package sinica_treebank to\n",
            "[nltk_data]    |     /root/nltk_data...\n",
            "[nltk_data]    |   Unzipping corpora/sinica_treebank.zip.\n",
            "[nltk_data]    | Downloading package smultron to /root/nltk_data...\n",
            "[nltk_data]    |   Unzipping corpora/smultron.zip.\n",
            "[nltk_data]    | Downloading package state_union to /root/nltk_data...\n",
            "[nltk_data]    |   Unzipping corpora/state_union.zip.\n",
            "[nltk_data]    | Downloading package stopwords to /root/nltk_data...\n",
            "[nltk_data]    |   Unzipping corpora/stopwords.zip.\n",
            "[nltk_data]    | Downloading package subjectivity to\n",
            "[nltk_data]    |     /root/nltk_data...\n",
            "[nltk_data]    |   Unzipping corpora/subjectivity.zip.\n",
            "[nltk_data]    | Downloading package swadesh to /root/nltk_data...\n",
            "[nltk_data]    |   Unzipping corpora/swadesh.zip.\n",
            "[nltk_data]    | Downloading package switchboard to /root/nltk_data...\n",
            "[nltk_data]    |   Unzipping corpora/switchboard.zip.\n",
            "[nltk_data]    | Downloading package timit to /root/nltk_data...\n",
            "[nltk_data]    |   Unzipping corpora/timit.zip.\n",
            "[nltk_data]    | Downloading package toolbox to /root/nltk_data...\n",
            "[nltk_data]    |   Unzipping corpora/toolbox.zip.\n",
            "[nltk_data]    | Downloading package treebank to /root/nltk_data...\n",
            "[nltk_data]    |   Unzipping corpora/treebank.zip.\n",
            "[nltk_data]    | Downloading package twitter_samples to\n",
            "[nltk_data]    |     /root/nltk_data...\n",
            "[nltk_data]    |   Unzipping corpora/twitter_samples.zip.\n",
            "[nltk_data]    | Downloading package udhr to /root/nltk_data...\n",
            "[nltk_data]    |   Unzipping corpora/udhr.zip.\n",
            "[nltk_data]    | Downloading package udhr2 to /root/nltk_data...\n",
            "[nltk_data]    |   Unzipping corpora/udhr2.zip.\n",
            "[nltk_data]    | Downloading package unicode_samples to\n",
            "[nltk_data]    |     /root/nltk_data...\n",
            "[nltk_data]    |   Unzipping corpora/unicode_samples.zip.\n",
            "[nltk_data]    | Downloading package universal_treebanks_v20 to\n",
            "[nltk_data]    |     /root/nltk_data...\n",
            "[nltk_data]    | Downloading package verbnet to /root/nltk_data...\n",
            "[nltk_data]    |   Unzipping corpora/verbnet.zip.\n",
            "[nltk_data]    | Downloading package verbnet3 to /root/nltk_data...\n",
            "[nltk_data]    |   Unzipping corpora/verbnet3.zip.\n",
            "[nltk_data]    | Downloading package webtext to /root/nltk_data...\n",
            "[nltk_data]    |   Unzipping corpora/webtext.zip.\n",
            "[nltk_data]    | Downloading package wordnet to /root/nltk_data...\n",
            "[nltk_data]    |   Unzipping corpora/wordnet.zip.\n",
            "[nltk_data]    | Downloading package wordnet_ic to /root/nltk_data...\n",
            "[nltk_data]    |   Unzipping corpora/wordnet_ic.zip.\n",
            "[nltk_data]    | Downloading package words to /root/nltk_data...\n",
            "[nltk_data]    |   Unzipping corpora/words.zip.\n",
            "[nltk_data]    | Downloading package ycoe to /root/nltk_data...\n",
            "[nltk_data]    |   Unzipping corpora/ycoe.zip.\n",
            "[nltk_data]    | Downloading package rslp to /root/nltk_data...\n",
            "[nltk_data]    |   Unzipping stemmers/rslp.zip.\n",
            "[nltk_data]    | Downloading package maxent_treebank_pos_tagger to\n",
            "[nltk_data]    |     /root/nltk_data...\n",
            "[nltk_data]    |   Unzipping taggers/maxent_treebank_pos_tagger.zip.\n",
            "[nltk_data]    | Downloading package universal_tagset to\n",
            "[nltk_data]    |     /root/nltk_data...\n",
            "[nltk_data]    |   Unzipping taggers/universal_tagset.zip.\n",
            "[nltk_data]    | Downloading package maxent_ne_chunker to\n",
            "[nltk_data]    |     /root/nltk_data...\n",
            "[nltk_data]    |   Unzipping chunkers/maxent_ne_chunker.zip.\n",
            "[nltk_data]    | Downloading package punkt to /root/nltk_data...\n",
            "[nltk_data]    |   Unzipping tokenizers/punkt.zip.\n",
            "[nltk_data]    | Downloading package book_grammars to\n",
            "[nltk_data]    |     /root/nltk_data...\n",
            "[nltk_data]    |   Unzipping grammars/book_grammars.zip.\n",
            "[nltk_data]    | Downloading package sample_grammars to\n",
            "[nltk_data]    |     /root/nltk_data...\n",
            "[nltk_data]    |   Unzipping grammars/sample_grammars.zip.\n",
            "[nltk_data]    | Downloading package spanish_grammars to\n",
            "[nltk_data]    |     /root/nltk_data...\n",
            "[nltk_data]    |   Unzipping grammars/spanish_grammars.zip.\n",
            "[nltk_data]    | Downloading package basque_grammars to\n",
            "[nltk_data]    |     /root/nltk_data...\n",
            "[nltk_data]    |   Unzipping grammars/basque_grammars.zip.\n",
            "[nltk_data]    | Downloading package large_grammars to\n",
            "[nltk_data]    |     /root/nltk_data...\n",
            "[nltk_data]    |   Unzipping grammars/large_grammars.zip.\n",
            "[nltk_data]    | Downloading package tagsets to /root/nltk_data...\n",
            "[nltk_data]    |   Unzipping help/tagsets.zip.\n",
            "[nltk_data]    | Downloading package snowball_data to\n",
            "[nltk_data]    |     /root/nltk_data...\n",
            "[nltk_data]    | Downloading package bllip_wsj_no_aux to\n",
            "[nltk_data]    |     /root/nltk_data...\n",
            "[nltk_data]    |   Unzipping models/bllip_wsj_no_aux.zip.\n",
            "[nltk_data]    | Downloading package word2vec_sample to\n",
            "[nltk_data]    |     /root/nltk_data...\n",
            "[nltk_data]    |   Unzipping models/word2vec_sample.zip.\n",
            "[nltk_data]    | Downloading package panlex_swadesh to\n",
            "[nltk_data]    |     /root/nltk_data...\n",
            "[nltk_data]    | Downloading package mte_teip5 to /root/nltk_data...\n",
            "[nltk_data]    |   Unzipping corpora/mte_teip5.zip.\n",
            "[nltk_data]    | Downloading package averaged_perceptron_tagger to\n",
            "[nltk_data]    |     /root/nltk_data...\n",
            "[nltk_data]    |   Unzipping taggers/averaged_perceptron_tagger.zip.\n",
            "[nltk_data]    | Downloading package averaged_perceptron_tagger_ru to\n",
            "[nltk_data]    |     /root/nltk_data...\n",
            "[nltk_data]    |   Unzipping\n",
            "[nltk_data]    |       taggers/averaged_perceptron_tagger_ru.zip.\n",
            "[nltk_data]    | Downloading package perluniprops to\n",
            "[nltk_data]    |     /root/nltk_data...\n",
            "[nltk_data]    |   Unzipping misc/perluniprops.zip.\n",
            "[nltk_data]    | Downloading package nonbreaking_prefixes to\n",
            "[nltk_data]    |     /root/nltk_data...\n",
            "[nltk_data]    |   Unzipping corpora/nonbreaking_prefixes.zip.\n",
            "[nltk_data]    | Downloading package vader_lexicon to\n",
            "[nltk_data]    |     /root/nltk_data...\n",
            "[nltk_data]    | Downloading package porter_test to /root/nltk_data...\n",
            "[nltk_data]    |   Unzipping stemmers/porter_test.zip.\n",
            "[nltk_data]    | Downloading package wmt15_eval to /root/nltk_data...\n",
            "[nltk_data]    |   Unzipping models/wmt15_eval.zip.\n",
            "[nltk_data]    | Downloading package mwa_ppdb to /root/nltk_data...\n",
            "[nltk_data]    |   Unzipping misc/mwa_ppdb.zip.\n",
            "[nltk_data]    | \n",
            "[nltk_data]  Done downloading collection all\n"
          ],
          "name": "stdout"
        }
      ]
    },
    {
      "cell_type": "code",
      "metadata": {
        "colab": {
          "base_uri": "https://localhost:8080/"
        },
        "id": "c9UBWXD6aELy",
        "outputId": "9f13457e-b714-41de-8a25-e868141e5885"
      },
      "source": [
        "# hey Text blob! please, read this sentence for me and understand it by your own!\r\n",
        "b = TextBlob(\"Simple is better than complex.\")\r\n",
        "b.sentiment\r\n",
        "\r\n",
        "# Polarity is float which lies in the range of [-1,1] where 1 means positive statement and -1 means a negative statement. \r\n",
        "#Subjective sentences generally refer to personal opinion, emotion or judgment whereas objective refers to factual information.\r\n",
        "#Subjectivity is also a float which lies in the range of [0,1].\r\n"
      ],
      "execution_count": 6,
      "outputs": [
        {
          "output_type": "execute_result",
          "data": {
            "text/plain": [
              "Sentiment(polarity=0.06666666666666667, subjectivity=0.41904761904761906)"
            ]
          },
          "metadata": {
            "tags": []
          },
          "execution_count": 6
        }
      ]
    },
    {
      "cell_type": "code",
      "metadata": {
        "colab": {
          "base_uri": "https://localhost:8080/"
        },
        "id": "cSvJgWdnTPs8",
        "outputId": "4a7b8c29-e5c3-4520-ff39-07328e267984"
      },
      "source": [
        "hi_b = TextBlob(\"सभी को नमस्कार! मुझे उम्मीद है कि आज बारिश नहीं हुई!\")\r\n",
        "hi_b.detect_language()\r\n",
        "hi_b.translate(to='gu')"
      ],
      "execution_count": 7,
      "outputs": [
        {
          "output_type": "execute_result",
          "data": {
            "text/plain": [
              "TextBlob(\"સૌને નમસ્કાર! હું આશા રાખું છું કે આજે વરસાદ પડ્યો નથી!\")"
            ]
          },
          "metadata": {
            "tags": []
          },
          "execution_count": 7
        }
      ]
    },
    {
      "cell_type": "code",
      "metadata": {
        "colab": {
          "base_uri": "https://localhost:8080/"
        },
        "id": "HdV_3NwUMeOu",
        "outputId": "a2431d62-e229-46d2-f6e1-fa1467f37820"
      },
      "source": [
        "!python -m spacy download en_core_web_lg"
      ],
      "execution_count": 8,
      "outputs": [
        {
          "output_type": "stream",
          "text": [
            "Collecting en_core_web_lg==2.2.5\n",
            "\u001b[?25l  Downloading https://github.com/explosion/spacy-models/releases/download/en_core_web_lg-2.2.5/en_core_web_lg-2.2.5.tar.gz (827.9MB)\n",
            "\u001b[K     |████████████████████████████████| 827.9MB 1.2MB/s \n",
            "\u001b[?25hRequirement already satisfied: spacy>=2.2.2 in /usr/local/lib/python3.7/dist-packages (from en_core_web_lg==2.2.5) (2.2.4)\n",
            "Requirement already satisfied: thinc==7.4.0 in /usr/local/lib/python3.7/dist-packages (from spacy>=2.2.2->en_core_web_lg==2.2.5) (7.4.0)\n",
            "Requirement already satisfied: cymem<2.1.0,>=2.0.2 in /usr/local/lib/python3.7/dist-packages (from spacy>=2.2.2->en_core_web_lg==2.2.5) (2.0.5)\n",
            "Requirement already satisfied: tqdm<5.0.0,>=4.38.0 in /usr/local/lib/python3.7/dist-packages (from spacy>=2.2.2->en_core_web_lg==2.2.5) (4.41.1)\n",
            "Requirement already satisfied: wasabi<1.1.0,>=0.4.0 in /usr/local/lib/python3.7/dist-packages (from spacy>=2.2.2->en_core_web_lg==2.2.5) (0.8.2)\n",
            "Requirement already satisfied: srsly<1.1.0,>=1.0.2 in /usr/local/lib/python3.7/dist-packages (from spacy>=2.2.2->en_core_web_lg==2.2.5) (1.0.5)\n",
            "Requirement already satisfied: requests<3.0.0,>=2.13.0 in /usr/local/lib/python3.7/dist-packages (from spacy>=2.2.2->en_core_web_lg==2.2.5) (2.23.0)\n",
            "Requirement already satisfied: murmurhash<1.1.0,>=0.28.0 in /usr/local/lib/python3.7/dist-packages (from spacy>=2.2.2->en_core_web_lg==2.2.5) (1.0.5)\n",
            "Requirement already satisfied: numpy>=1.15.0 in /usr/local/lib/python3.7/dist-packages (from spacy>=2.2.2->en_core_web_lg==2.2.5) (1.19.5)\n",
            "Requirement already satisfied: blis<0.5.0,>=0.4.0 in /usr/local/lib/python3.7/dist-packages (from spacy>=2.2.2->en_core_web_lg==2.2.5) (0.4.1)\n",
            "Requirement already satisfied: catalogue<1.1.0,>=0.0.7 in /usr/local/lib/python3.7/dist-packages (from spacy>=2.2.2->en_core_web_lg==2.2.5) (1.0.0)\n",
            "Requirement already satisfied: plac<1.2.0,>=0.9.6 in /usr/local/lib/python3.7/dist-packages (from spacy>=2.2.2->en_core_web_lg==2.2.5) (1.1.3)\n",
            "Requirement already satisfied: preshed<3.1.0,>=3.0.2 in /usr/local/lib/python3.7/dist-packages (from spacy>=2.2.2->en_core_web_lg==2.2.5) (3.0.5)\n",
            "Requirement already satisfied: setuptools in /usr/local/lib/python3.7/dist-packages (from spacy>=2.2.2->en_core_web_lg==2.2.5) (53.0.0)\n",
            "Requirement already satisfied: chardet<4,>=3.0.2 in /usr/local/lib/python3.7/dist-packages (from requests<3.0.0,>=2.13.0->spacy>=2.2.2->en_core_web_lg==2.2.5) (3.0.4)\n",
            "Requirement already satisfied: idna<3,>=2.5 in /usr/local/lib/python3.7/dist-packages (from requests<3.0.0,>=2.13.0->spacy>=2.2.2->en_core_web_lg==2.2.5) (2.10)\n",
            "Requirement already satisfied: urllib3!=1.25.0,!=1.25.1,<1.26,>=1.21.1 in /usr/local/lib/python3.7/dist-packages (from requests<3.0.0,>=2.13.0->spacy>=2.2.2->en_core_web_lg==2.2.5) (1.24.3)\n",
            "Requirement already satisfied: certifi>=2017.4.17 in /usr/local/lib/python3.7/dist-packages (from requests<3.0.0,>=2.13.0->spacy>=2.2.2->en_core_web_lg==2.2.5) (2020.12.5)\n",
            "Requirement already satisfied: importlib-metadata>=0.20; python_version < \"3.8\" in /usr/local/lib/python3.7/dist-packages (from catalogue<1.1.0,>=0.0.7->spacy>=2.2.2->en_core_web_lg==2.2.5) (3.7.0)\n",
            "Requirement already satisfied: typing-extensions>=3.6.4; python_version < \"3.8\" in /usr/local/lib/python3.7/dist-packages (from importlib-metadata>=0.20; python_version < \"3.8\"->catalogue<1.1.0,>=0.0.7->spacy>=2.2.2->en_core_web_lg==2.2.5) (3.7.4.3)\n",
            "Requirement already satisfied: zipp>=0.5 in /usr/local/lib/python3.7/dist-packages (from importlib-metadata>=0.20; python_version < \"3.8\"->catalogue<1.1.0,>=0.0.7->spacy>=2.2.2->en_core_web_lg==2.2.5) (3.4.0)\n",
            "Building wheels for collected packages: en-core-web-lg\n",
            "  Building wheel for en-core-web-lg (setup.py) ... \u001b[?25l\u001b[?25hdone\n",
            "  Created wheel for en-core-web-lg: filename=en_core_web_lg-2.2.5-cp37-none-any.whl size=829180944 sha256=fc2291c23e718296e315f8c9369e54f3e4c69e9ebefbfea94d54c00dedd33ca7\n",
            "  Stored in directory: /tmp/pip-ephem-wheel-cache-i869lalf/wheels/2a/c1/a6/fc7a877b1efca9bc6a089d6f506f16d3868408f9ff89f8dbfc\n",
            "Successfully built en-core-web-lg\n",
            "Installing collected packages: en-core-web-lg\n",
            "Successfully installed en-core-web-lg-2.2.5\n",
            "\u001b[38;5;2m✔ Download and installation successful\u001b[0m\n",
            "You can now load the model via spacy.load('en_core_web_lg')\n"
          ],
          "name": "stdout"
        }
      ]
    },
    {
      "cell_type": "code",
      "metadata": {
        "id": "bxnZjyyLewc4"
      },
      "source": [
        "# When the en_core_web_lg library is downloaded then fo to Rintime --> Restart Runtime\r\n",
        "\r\n",
        "import spacy\r\n",
        "MyVectorizer = spacy.load('en_core_web_lg')\r\n",
        "\r\n",
        "sentence1 = \"I love the book\"\r\n",
        "sentence2 = \"This is a great book ?\"\r\n",
        "sentence3 = \"The fit is great\"\r\n",
        "sentence4 = \"I love the shoes\"\r\n",
        "sentence5 = \"I like to dance\"\r\n",
        "sentence6 = \"virus is deadly \"\r\n",
        "sentence7 = \"it kills people\"\r\n",
        "\r\n",
        "\r\n",
        "train_x = [sentence1,sentence2,sentence3,sentence4,sentence5,sentence6,sentence7]\r\n",
        "train_y = [\"books\", \"books\", \"clothes\", \"clothes\",\"jovial\",\"covid\",\"covid\"]\r\n",
        "\r\n",
        "\r\n",
        "# Hey Spacy please read and understand the training data for me! can you?\r\n",
        "MyTextVectors = [MyVectorizer(text) for text in train_x]\r\n",
        "\r\n",
        "# Hey Spacy please converrt your knowledge into numerical values so that I can analyze them with mathematical methods I know already\r\n",
        "MyNumericalVectors = [x.vector for x in MyTextVectors]\r\n",
        "\r\n",
        "\r\n",
        "\r\n",
        "\r\n",
        "\r\n"
      ],
      "execution_count": 1,
      "outputs": []
    },
    {
      "cell_type": "code",
      "metadata": {
        "colab": {
          "base_uri": "https://localhost:8080/"
        },
        "id": "lDi--otycIek",
        "outputId": "621025f5-ff3b-4eee-f3f0-c274568aa73a"
      },
      "source": [
        "# SVM is a classifier that learns and later decides if a text is about the clothes or books \r\n",
        "from sklearn import svm\r\n",
        "MySVM = svm.SVC(kernel = 'linear')\r\n",
        "MySVM.fit(MyNumericalVectors, train_y)"
      ],
      "execution_count": 2,
      "outputs": [
        {
          "output_type": "execute_result",
          "data": {
            "text/plain": [
              "SVC(C=1.0, break_ties=False, cache_size=200, class_weight=None, coef0=0.0,\n",
              "    decision_function_shape='ovr', degree=3, gamma='scale', kernel='linear',\n",
              "    max_iter=-1, probability=False, random_state=None, shrinking=True,\n",
              "    tol=0.001, verbose=False)"
            ]
          },
          "metadata": {
            "tags": []
          },
          "execution_count": 2
        }
      ]
    },
    {
      "cell_type": "code",
      "metadata": {
        "colab": {
          "base_uri": "https://localhost:8080/"
        },
        "id": "ybRplOopQ3ud",
        "outputId": "87f5d8e0-9ad3-446e-a541-7c607f4781b2"
      },
      "source": [
        "test_x = [\"the virus is deadly\",\"my clothes are dirty\"]\r\n",
        "MyTextVectors = [MyVectorizer(text) for text in test_x]\r\n",
        "MyNumericalVectors = [x.vector for x in MyTextVectors]\r\n",
        "MySVM.predict(MyNumericalVectors)"
      ],
      "execution_count": 3,
      "outputs": [
        {
          "output_type": "execute_result",
          "data": {
            "text/plain": [
              "array(['covid', 'clothes'], dtype='<U7')"
            ]
          },
          "metadata": {
            "tags": []
          },
          "execution_count": 3
        }
      ]
    },
    {
      "cell_type": "code",
      "metadata": {
        "colab": {
          "base_uri": "https://localhost:8080/"
        },
        "id": "R8rK45PKTel6",
        "outputId": "ca2ce88f-aa40-45f9-ad83-40c8a9c23ab0"
      },
      "source": [
        "test_x = [\"dancing is fun\"]\r\n",
        "MyTextVectors = [MyVectorizer(text) for text in test_x]\r\n",
        "MyNumericalVectors = [x.vector for x in MyTextVectors]\r\n",
        "a=MySVM.predict(MyNumericalVectors)\r\n",
        "a"
      ],
      "execution_count": 9,
      "outputs": [
        {
          "output_type": "execute_result",
          "data": {
            "text/plain": [
              "array(['jovial'], dtype='<U7')"
            ]
          },
          "metadata": {
            "tags": []
          },
          "execution_count": 9
        }
      ]
    },
    {
      "cell_type": "code",
      "metadata": {
        "colab": {
          "base_uri": "https://localhost:8080/"
        },
        "id": "M7JlI3hvZBFM",
        "outputId": "5b76985f-7512-40e0-e88a-b5ceae2952c7"
      },
      "source": [
        "!pip install gtts\r\n",
        "from gtts import gTTS #Import Google Text to Speech\r\n",
        "from IPython.display import Audio #Import Audio method from IPython's Display Class\r\n",
        "\r\n",
        "\r\n",
        "\r\n",
        "#Autoplay = True will play the sound automatically\r\n",
        "#If you would not like to play the sound automatically, simply pass Autoplay = False."
      ],
      "execution_count": 5,
      "outputs": [
        {
          "output_type": "stream",
          "text": [
            "Requirement already satisfied: gtts in /usr/local/lib/python3.7/dist-packages (2.2.2)\n",
            "Requirement already satisfied: click in /usr/local/lib/python3.7/dist-packages (from gtts) (7.1.2)\n",
            "Requirement already satisfied: six in /usr/local/lib/python3.7/dist-packages (from gtts) (1.15.0)\n",
            "Requirement already satisfied: requests in /usr/local/lib/python3.7/dist-packages (from gtts) (2.23.0)\n",
            "Requirement already satisfied: urllib3!=1.25.0,!=1.25.1,<1.26,>=1.21.1 in /usr/local/lib/python3.7/dist-packages (from requests->gtts) (1.24.3)\n",
            "Requirement already satisfied: certifi>=2017.4.17 in /usr/local/lib/python3.7/dist-packages (from requests->gtts) (2020.12.5)\n",
            "Requirement already satisfied: chardet<4,>=3.0.2 in /usr/local/lib/python3.7/dist-packages (from requests->gtts) (3.0.4)\n",
            "Requirement already satisfied: idna<3,>=2.5 in /usr/local/lib/python3.7/dist-packages (from requests->gtts) (2.10)\n"
          ],
          "name": "stdout"
        }
      ]
    },
    {
      "cell_type": "code",
      "metadata": {
        "colab": {
          "base_uri": "https://localhost:8080/",
          "height": 75
        },
        "id": "-kOlFzrYcEPV",
        "outputId": "557256b9-ec9e-4878-ab44-cd51bd231bd1"
      },
      "source": [
        "\r\n",
        "tts=gTTS(sentence1)\r\n",
        "#tts = gTTS('hello joyjit') #Provide the string to convert to speech\r\n",
        "tts.save('1.wav') #save the string converted to speech as a .wav file\r\n",
        "sound_file = '1.wav'\r\n",
        "Audio(sound_file, autoplay=True) "
      ],
      "execution_count": 11,
      "outputs": [
        {
          "output_type": "execute_result",
          "data": {
            "text/html": [
              "\n",
              "                <audio controls=\"controls\" autoplay=\"autoplay\">\n",
              "                    <source src=\"data:audio/x-wav;base64,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\" type=\"audio/x-wav\" />\n",
              "                    Your browser does not support the audio element.\n",
              "                </audio>\n",
              "              "
            ],
            "text/plain": [
              "<IPython.lib.display.Audio object>"
            ]
          },
          "metadata": {
            "tags": []
          },
          "execution_count": 11
        }
      ]
    }
  ]
}